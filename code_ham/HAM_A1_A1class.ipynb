{
 "cells": [
  {
   "cell_type": "code",
   "execution_count": 13,
   "metadata": {},
   "outputs": [],
   "source": [
    "# change path\n",
    "code_path = 'Semantic-Aware-Attention-Based-Deep-Object-Co-segmentation/'\n",
    "label_save_path = 'Data_ham/HAM_LABELS.npy'\n",
    "\n",
    "img_path1 = 'Data_ham/HAM10000_images_part_1/'\n",
    "img_path2 = 'Data_ham/HAM10000_images_part_2/'\n",
    "gt_path = 'Data_ham/HAM_MASK/'\n",
    "el_path = 'Data_ham/HAM_ellipse/'\n",
    "grab_path = 'Data_ham/HAM_grabcut/'\n",
    "\n",
    "a1_path='checkpoints/ham_a1.pt'\n",
    "a1_class_path='checkpoints/ham_a1class.pt'\n",
    "\n",
    "num_class=45"
   ]
  },
  {
   "cell_type": "code",
   "execution_count": 2,
   "metadata": {},
   "outputs": [],
   "source": [
    "import torch, math, time\n",
    "import numpy as np\n",
    "import cv2\n",
    "import PIL\n",
    "from matplotlib import pyplot as plt\n",
    "from matplotlib import image\n",
    "%matplotlib inline\n",
    "import skimage, skimage.transform\n",
    "import sys\n",
    "sys.path.append(code_path)\n",
    "from torchvision import models\n",
    "import scipy.io as sio\n",
    "from scipy.io import loadmat\n",
    "import torch.nn.functional as F\n",
    "# CUDA flag. Speed-up due to CUDA is mostly noticable for large batches.\n",
    "cuda = True\n",
    "from PIL import Image,ImageDraw\n",
    "from torchvision.utils import save_image\n",
    "from torchvision.transforms import Compose, Resize, CenterCrop, ToTensor, Normalize, Scale, ToPILImage\n",
    "from torch.utils.data import Dataset, DataLoader\n",
    "from torchvision import transforms, utils\n",
    "#from skimage import io, transform\n",
    "from model import *\n",
    "import segmentation_models_pytorch as smp\n",
    "import albumentations as albu\n",
    "from tqdm.auto import tqdm\n",
    "import torch.nn as nn\n",
    "import torchvision.models.resnet as resnet_util\n",
    "from segmentation_models_pytorch.encoders import get_preprocessing_fn\n",
    "from torch.optim import Adam\n",
    "import os\n",
    "from copy import deepcopy\n",
    "import random\n",
    "from random import shuffle\n",
    "from util import metrics"
   ]
  },
  {
   "cell_type": "markdown",
   "metadata": {},
   "source": [
    "## Dataloader"
   ]
  },
  {
   "cell_type": "code",
   "execution_count": 3,
   "metadata": {},
   "outputs": [],
   "source": [
    "im_dir = np.array(sorted(os.listdir(img_path1)+os.listdir(img_path2)))\n",
    "gt_dir = np.array(sorted(os.listdir(gt_path)))\n",
    "el_dir = np.array(sorted(os.listdir(el_path)))\n",
    "grab_dir = np.array(sorted(os.listdir(grab_path)))\n",
    "\n",
    "wrong=[1736, 3925, 5513]\n",
    "im_dir=np.delete(im_dir,wrong)\n",
    "gt_dir=np.delete(gt_dir,wrong)\n",
    "\n",
    "labels=np.load(label_save_path)"
   ]
  },
  {
   "cell_type": "code",
   "execution_count": 4,
   "metadata": {},
   "outputs": [],
   "source": [
    "random.seed(1)\n",
    "ind = np.arange(len(im_dir))\n",
    "shuffle(ind)\n",
    "tr = int(len(ind)*0.7)\n",
    "val = tr+int(len(ind)*0.2)\n",
    "\n",
    "im_train_dir = im_dir[ind[:tr]]\n",
    "im_val_dir = im_dir[ind[tr:val]]\n",
    "im_test_dir = im_dir[ind[val:]]"
   ]
  },
  {
   "cell_type": "code",
   "execution_count": 5,
   "metadata": {},
   "outputs": [],
   "source": [
    "random.seed(1)\n",
    "ind = np.arange(len(im_dir))\n",
    "shuffle(ind)\n",
    "tr = int(len(ind)*0.7)\n",
    "val = tr+int(len(ind)*0.2)\n",
    "im_train_dir = im_dir[ind[:tr]]\n",
    "gt_train_dir = gt_dir[ind[:tr]]\n",
    "el_train_dir = el_dir[ind[:tr]]\n",
    "grab_train_dir = grab_dir[ind[:tr]]\n",
    "train_label=labels[ind[:tr]]\n",
    "\n",
    "im_val_dir = im_dir[ind[tr:val]]\n",
    "gt_val_dir = gt_dir[ind[tr:val]]\n",
    "el_val_dir = el_dir[ind[tr:val]]\n",
    "grab_val_dir = grab_dir[ind[tr:val]]\n",
    "val_label=labels[ind[tr:val]]\n",
    "\n",
    "im_test_dir = im_dir[ind[val:]]\n",
    "gt_test_dir = gt_dir[ind[val:]]\n",
    "el_test_dir = el_dir[ind[val:]]\n",
    "grab_test_dir = grab_dir[ind[val:]]\n",
    "test_label=labels[ind[val:]]"
   ]
  },
  {
   "cell_type": "code",
   "execution_count": 6,
   "metadata": {},
   "outputs": [],
   "source": [
    "def get_training_augmentation():\n",
    "    train_transform = [albu.Resize(120,120),albu.PadIfNeeded(384, 480)]\n",
    "    return albu.Compose(train_transform)\n",
    "\n",
    "def to_tensor(x, **kwargs):\n",
    "    return torch.from_numpy(x.transpose(2, 0, 1).astype('float32'))\n",
    "\n",
    "def get_preprocessing(preprocessing_fn):\n",
    "    _transform = [\n",
    "        albu.Lambda(image=preprocessing_fn),\n",
    "        albu.Lambda(image=to_tensor, mask=to_tensor),\n",
    "    ]\n",
    "    return albu.Compose(_transform)"
   ]
  },
  {
   "cell_type": "code",
   "execution_count": 7,
   "metadata": {},
   "outputs": [],
   "source": [
    "class Dataset(Dataset):\n",
    "    def __init__(\n",
    "            self, \n",
    "            images_dir, \n",
    "            masks_dir,\n",
    "            masks_path,\n",
    "            label,\n",
    "            augmentation=None, \n",
    "            preprocessing=None,\n",
    "    ):\n",
    "        self.images_fps = []\n",
    "        for image_id in images_dir:\n",
    "            if os.path.isfile(os.path.join(img_path1, image_id)):\n",
    "                self.images_fps.append(os.path.join(img_path1, image_id))\n",
    "            else:\n",
    "                self.images_fps.append(os.path.join(img_path2, image_id))\n",
    "        self.masks_fps = [os.path.join(masks_path, mask_id) for mask_id in masks_dir]\n",
    "        self.augmentation = augmentation\n",
    "        self.preprocessing = preprocessing\n",
    "        self.label=label\n",
    "    \n",
    "    def __getitem__(self, i):\n",
    "        image = cv2.imread(self.images_fps[i])\n",
    "        mask = cv2.imread(self.masks_fps[i],0)/255.0\n",
    "        mask[mask>=0.5]=1\n",
    "        mask[mask<0.5]=0\n",
    "        mask = np.expand_dims(mask,2)\n",
    "        sample = self.augmentation(image=image, mask=mask)\n",
    "        image, mask = sample['image'], sample['mask'].reshape(384,480,1)\n",
    "        sample = self.preprocessing(image=image, mask=mask)\n",
    "        image, mask = sample['image'], sample['mask']\n",
    "        return image, mask, torch.tensor(self.label[i])\n",
    "        \n",
    "    def __len__(self):\n",
    "        return len(self.masks_fps)"
   ]
  },
  {
   "cell_type": "code",
   "execution_count": 8,
   "metadata": {},
   "outputs": [],
   "source": [
    "propro=get_preprocessing(get_preprocessing_fn('resnet101', pretrained='imagenet'))\n",
    "train_dataset = Dataset(\n",
    "    im_train_dir, \n",
    "    el_train_dir, #grab_train_dir, \n",
    "    el_path, #grab_path\n",
    "    train_label,\n",
    "    augmentation=get_training_augmentation(),\n",
    "    preprocessing=propro\n",
    ")\n",
    "val_dataset = Dataset(\n",
    "    im_val_dir, \n",
    "    el_val_dir, #grab_val_dir, \n",
    "    el_path, #grab_path,\n",
    "    val_label,\n",
    "    augmentation=get_training_augmentation(),\n",
    "    preprocessing=propro\n",
    ")\n",
    "test_dataset = Dataset(\n",
    "    im_test_dir, \n",
    "    gt_test_dir, \n",
    "    gt_path,\n",
    "    test_label,\n",
    "    augmentation=get_training_augmentation(),\n",
    "    preprocessing=propro\n",
    ")"
   ]
  },
  {
   "cell_type": "code",
   "execution_count": 9,
   "metadata": {},
   "outputs": [],
   "source": [
    "bs = 10\n",
    "train_loader = torch.utils.data.DataLoader(train_dataset,\n",
    "                                             batch_size=bs, shuffle=True,\n",
    "                                             num_workers=1)\n",
    "val_loader = torch.utils.data.DataLoader(val_dataset,\n",
    "                                             batch_size=bs, shuffle=True,\n",
    "                                             num_workers=1)\n",
    "test_loader = torch.utils.data.DataLoader(test_dataset,\n",
    "                                             batch_size=bs, shuffle=False,\n",
    "                                             num_workers=1)"
   ]
  },
  {
   "cell_type": "markdown",
   "metadata": {},
   "source": [
    "## A1 Train"
   ]
  },
  {
   "cell_type": "code",
   "execution_count": 11,
   "metadata": {},
   "outputs": [],
   "source": [
    "def train(model, opt, criterion, device, checkpoint_save_path, max_patient=5):\n",
    "    min_val_loss = float('inf')\n",
    "    m=0\n",
    "    for epoch in tqdm(range(50)):\n",
    "        # train\n",
    "        model.train()\n",
    "        train_loss=[]\n",
    "        for batch_idx, sam in enumerate(train_loader):\n",
    "            # send to device\n",
    "            data, target = sam[0].to(device=device,dtype=torch.float), sam[1].to(device=device,dtype=torch.float)\n",
    "            \n",
    "            opt.zero_grad()\n",
    "            \n",
    "            out=model(data)\n",
    "        \n",
    "            loss = criterion(out, target) * 100.0\n",
    "            loss.backward()\n",
    "            opt.step()\n",
    "            \n",
    "            train_loss.append(loss.item())\n",
    "            \n",
    "            if batch_idx % 500 == 0:\n",
    "                avg_loss = sum(train_loss)/len(train_loss)\n",
    "                print('Step {} avg train loss = {:.{prec}f}'.format(batch_idx, avg_loss, prec=4))\n",
    "                train_loss = []\n",
    "                \n",
    "        # valid\n",
    "        valid_loss=[]\n",
    "        model.eval()\n",
    "        with torch.no_grad():\n",
    "            for batch_idx, sam in enumerate(val_loader):\n",
    "                data, target = sam[0].to(device=device,dtype=torch.float), sam[1].to(device=device,dtype=torch.float)\n",
    "                \n",
    "                out=model(data)\n",
    "                \n",
    "                loss = criterion(out,target) * 100.0\n",
    "                valid_loss.append(loss.item())\n",
    "            avg_val_loss = sum(valid_loss) / len(valid_loss)\n",
    "            print('Validation loss after {} epoch = {:.{prec}f}'.format(epoch, avg_val_loss, prec=4))\n",
    "        \n",
    "        if avg_val_loss < min_val_loss:\n",
    "            min_val_loss = avg_val_loss\n",
    "            torch.save({'model_dict': model.state_dict()},checkpoint_save_path)\n",
    "            print('model saved')\n",
    "            m=0\n",
    "        else:\n",
    "            m+=1\n",
    "            if m >= max_patient:\n",
    "                return\n",
    "                \n",
    "    return"
   ]
  },
  {
   "cell_type": "code",
   "execution_count": 15,
   "metadata": {},
   "outputs": [
    {
     "data": {
      "text/plain": [
       "<All keys matched successfully>"
      ]
     },
     "execution_count": 15,
     "metadata": {},
     "output_type": "execute_result"
    }
   ],
   "source": [
    "device = torch.device(\"cuda:0\" if torch.cuda.is_available() else \"cpu\")\n",
    "\n",
    "model = smp.DeepLabV3Plus(encoder_name='resnet101')\n",
    "model.load_state_dict(checkpoint['model_dict'])"
   ]
  },
  {
   "cell_type": "code",
   "execution_count": 16,
   "metadata": {},
   "outputs": [
    {
     "data": {
      "application/vnd.jupyter.widget-view+json": {
       "model_id": "522c2f17097c400dbee5e4904e5d4b27",
       "version_major": 2,
       "version_minor": 0
      },
      "text/plain": [
       "HBox(children=(FloatProgress(value=0.0, max=50.0), HTML(value='')))"
      ]
     },
     "metadata": {},
     "output_type": "display_data"
    },
    {
     "name": "stdout",
     "output_type": "stream",
     "text": [
      "Step 0 avg train loss = 217.0010\n",
      "Step 500 avg train loss = 18.4547\n",
      "Validation loss after 0 epoch = 13.1834\n",
      "model saved\n",
      "Step 0 avg train loss = 13.5415\n",
      "Step 500 avg train loss = 12.8940\n",
      "Validation loss after 1 epoch = 12.1508\n",
      "model saved\n",
      "Step 0 avg train loss = 8.3327\n",
      "Step 500 avg train loss = 11.9451\n",
      "Validation loss after 2 epoch = 12.1470\n",
      "model saved\n",
      "Step 0 avg train loss = 20.2168\n",
      "Step 500 avg train loss = 10.8984\n",
      "Validation loss after 3 epoch = 11.0995\n",
      "model saved\n",
      "Step 0 avg train loss = 13.0823\n",
      "Step 500 avg train loss = 10.4339\n",
      "Validation loss after 4 epoch = 10.9708\n",
      "model saved\n",
      "Step 0 avg train loss = 9.3801\n",
      "Step 500 avg train loss = 9.9595\n",
      "Validation loss after 5 epoch = 10.6551\n",
      "model saved\n",
      "Step 0 avg train loss = 10.7799\n",
      "Step 500 avg train loss = 9.3843\n",
      "Validation loss after 6 epoch = 11.1890\n",
      "Step 0 avg train loss = 6.0398\n",
      "Step 500 avg train loss = 8.6909\n",
      "Validation loss after 7 epoch = 10.8962\n",
      "Step 0 avg train loss = 12.0898\n",
      "Step 500 avg train loss = 8.3317\n",
      "Validation loss after 8 epoch = 10.9493\n",
      "Step 0 avg train loss = 5.8480\n",
      "Step 500 avg train loss = 7.7602\n",
      "Validation loss after 9 epoch = 11.3009\n",
      "Step 0 avg train loss = 6.7226\n",
      "Step 500 avg train loss = 7.4421\n",
      "Validation loss after 10 epoch = 11.1402\n"
     ]
    }
   ],
   "source": [
    "lr=0.001\n",
    "model = model.to(device)\n",
    "\n",
    "opt = Adam(model.parameters(),lr=lr)\n",
    "bce_loss = nn.BCEWithLogitsLoss()\n",
    "\n",
    "train(model,opt,bce_loss,device, a1_path)"
   ]
  },
  {
   "cell_type": "markdown",
   "metadata": {},
   "source": [
    "## A1 Evaluate"
   ]
  },
  {
   "cell_type": "code",
   "execution_count": 22,
   "metadata": {},
   "outputs": [],
   "source": [
    "def test(model,loader):\n",
    "    test_loss=[]\n",
    "    #imgs = torch.tensor([])\n",
    "    mask,pred = [],[]\n",
    "    with torch.no_grad():\n",
    "        for batch_idx, sam in enumerate(loader):\n",
    "            data, target = sam[0].to(device=device,dtype=torch.float), sam[1].to(device=device,dtype=torch.float)\n",
    "            out = model(data)\n",
    "            loss = bce_loss(out,target) * 100.0\n",
    "            test_loss.append(loss.item())\n",
    "            mask.append(target.cpu().detach().numpy())\n",
    "            pred.append(out.cpu().detach().numpy())\n",
    "        avg_test_loss = sum(test_loss) / len(test_loss)\n",
    "        print('Test loss = {:.{prec}f}'.format(avg_test_loss, prec=4))\n",
    "    return mask,pred"
   ]
  },
  {
   "cell_type": "code",
   "execution_count": 23,
   "metadata": {},
   "outputs": [
    {
     "name": "stdout",
     "output_type": "stream",
     "text": [
      "Test loss = 14.8359\n"
     ]
    }
   ],
   "source": [
    "#checkpoint_save_path1='/misc/vlgscratch4/LakeGroup/shared_data/wsol_checkpoint_/ham_ell.pt'\n",
    "\n",
    "device = torch.device(\"cuda\" if torch.cuda.is_available() else \"cpu\")\n",
    "#optimal_model = smp.DeepLabV3Plus(encoder_name='resnet101').to(device)\n",
    "optimal_model = smp.Unet(encoder_name='resnet101').to(device)\n",
    "checkpoint = torch.load(a1_path)\n",
    "optimal_model.load_state_dict(checkpoint['model_dict'])\n",
    "optimal_model.eval()\n",
    "bce_loss = nn.BCEWithLogitsLoss()\n",
    "\n",
    "mask,pred = test(optimal_model,test_loader)\n",
    "gt_map = np.concatenate(mask, axis=0)\n",
    "pred_map = np.concatenate(pred, axis=0)"
   ]
  },
  {
   "cell_type": "code",
   "execution_count": 31,
   "metadata": {},
   "outputs": [
    {
     "name": "stdout",
     "output_type": "stream",
     "text": [
      "Best test IOU is 0.825251476297906\n",
      "Best test DICE is 0.8992303889649864\n",
      "Test center error is 2.6270569717730394\n",
      "Test circumstance error is 8.862275449101796\n",
      "Test AVD is  10.387944143022278\n",
      "Test VS is  0.918178131644553\n"
     ]
    }
   ],
   "source": [
    "pred_map_sig = nn.Sigmoid()(torch.tensor(pred_map))\n",
    "threshold = 0.5\n",
    "predict = deepcopy(pred_map_sig)\n",
    "predict[pred_map_sig>=threshold]=1\n",
    "predict[pred_map_sig<threshold]=0\n",
    "\n",
    "cut_pred1 = []\n",
    "cut_gt = []\n",
    "for i in range(predict.shape[0]):\n",
    "    cut_pred1.append(np.uint8(predict[i,0,132:252,180:300]))\n",
    "    cut_gt.append(np.uint8(gt_map[i,0,132:252,180:300]))\n",
    "\n",
    "metrics(cut_gt,cut_pred1)"
   ]
  },
  {
   "cell_type": "markdown",
   "metadata": {},
   "source": [
    "## A1+class Train"
   ]
  },
  {
   "cell_type": "code",
   "execution_count": 11,
   "metadata": {},
   "outputs": [],
   "source": [
    "def train(model, opt, criterion_grab, criterion_class, device, checkpoint_save_path, max_patient=5):\n",
    "    min_val_loss = float('inf')\n",
    "    m=0\n",
    "    for epoch in tqdm(range(50)):\n",
    "        # train\n",
    "        model.train()\n",
    "        train_loss={'Total':[],'Mask':[],'Label':[]}\n",
    "        for batch_idx, sam in enumerate(train_loader):\n",
    "            # send to device\n",
    "            data, label, grabcut = sam[0].to(device=device,dtype=torch.float), sam[2].to(device=device,dtype=torch.long), sam[1].to(device=device,dtype=torch.float)\n",
    "            \n",
    "            opt.zero_grad()\n",
    "            \n",
    "            out_grab, out_class = model(data)\n",
    "        \n",
    "            loss_grab = criterion_grab(out_grab, grabcut) * 50.0\n",
    "            loss_class = criterion_class(out_class, label)\n",
    "            loss = loss_grab+loss_class\n",
    "            loss.backward()\n",
    "            opt.step()\n",
    "            \n",
    "            train_loss['Total'].append(loss.item())\n",
    "            train_loss['Mask'].append(loss_grab.item())\n",
    "            train_loss['Label'].append(loss_class.item())\n",
    "            \n",
    "            if batch_idx % 500 == 0:\n",
    "                total_loss = sum(train_loss['Total'])/len(train_loss['Total'])\n",
    "                mask_loss = sum(train_loss['Mask'])/len(train_loss['Mask'])\n",
    "                label_loss = sum(train_loss['Label'])/len(train_loss['Label'])\n",
    "                print('Step %s avg train total loss = %.4f, avg train Mask loss = %.4f, avg train label loss = %.4f,'%(batch_idx, total_loss, mask_loss, label_loss))\n",
    "                train_loss = {'Total':[],'Mask':[],'Label':[]}\n",
    "                \n",
    "        # valid\n",
    "        valid_loss={'Total':[],'Mask':[],'Label':[]}\n",
    "        model.eval()\n",
    "        with torch.no_grad():\n",
    "            for batch_idx, sam in enumerate(val_loader):\n",
    "                data, label, grabcut = sam[0].to(device=device,dtype=torch.float), sam[2].to(device=device,dtype=torch.long), sam[1].to(device=device,dtype=torch.float)\n",
    "                \n",
    "                out_grab,out_class=model(data)\n",
    "                \n",
    "                loss_grab = criterion_grab(out_grab,grabcut) * 50.0\n",
    "                loss_class = criterion_class(out_class, label)\n",
    "                loss = loss_grab+loss_class\n",
    "                \n",
    "                valid_loss['Total'].append(loss.item())\n",
    "                valid_loss['Mask'].append(loss_grab.item())\n",
    "                valid_loss['Label'].append(loss_class.item())\n",
    "                \n",
    "            total_loss = sum(valid_loss['Total'])/len(valid_loss['Total'])\n",
    "            mask_loss = sum(valid_loss['Mask'])/len(valid_loss['Mask'])\n",
    "            label_loss = sum(valid_loss['Label'])/len(valid_loss['Label'])\n",
    "            print('At Epoch %s avg validation total loss = %.4f, Mask loss = %.4f, label loss = %.4f,'%(epoch, total_loss, mask_loss, label_loss))\n",
    "        \n",
    "        if mask_loss < min_val_loss:\n",
    "            min_val_loss = mask_loss\n",
    "            torch.save({'model_dict': model.state_dict()},checkpoint_save_path)\n",
    "            print('model saved')\n",
    "            m=0\n",
    "        else:\n",
    "            m+=1\n",
    "            if m >= max_patient:\n",
    "                torch.save({'model_dict': model.state_dict()},checkpoint_save_path)\n",
    "                return\n",
    "                \n",
    "    return"
   ]
  },
  {
   "cell_type": "code",
   "execution_count": 12,
   "metadata": {},
   "outputs": [
    {
     "data": {
      "application/vnd.jupyter.widget-view+json": {
       "model_id": "fb7ab1d37f9141c89783e0085d890627",
       "version_major": 2,
       "version_minor": 0
      },
      "text/plain": [
       "HBox(children=(FloatProgress(value=0.0, max=50.0), HTML(value='')))"
      ]
     },
     "metadata": {},
     "output_type": "display_data"
    },
    {
     "name": "stdout",
     "output_type": "stream",
     "text": [
      "Step 0 avg train total loss = 42.7998, avg train Mask loss = 38.7969, avg train label loss = 4.0029,\n",
      "Step 500 avg train total loss = 14.1047, avg train Mask loss = 10.5223, avg train label loss = 3.5824,\n",
      "At Epoch 0 avg validation total loss = 11.4158, Mask loss = 8.4680, label loss = 2.9478,\n",
      "model saved\n",
      "Step 0 avg train total loss = 7.8734, avg train Mask loss = 5.4330, avg train label loss = 2.4404,\n",
      "Step 500 avg train total loss = 9.9644, avg train Mask loss = 7.2222, avg train label loss = 2.7422,\n",
      "At Epoch 1 avg validation total loss = 9.2249, Mask loss = 6.7104, label loss = 2.5145,\n",
      "model saved\n",
      "Step 0 avg train total loss = 9.6563, avg train Mask loss = 6.7434, avg train label loss = 2.9128,\n",
      "Step 500 avg train total loss = 8.9716, avg train Mask loss = 6.4940, avg train label loss = 2.4776,\n",
      "At Epoch 2 avg validation total loss = 9.4882, Mask loss = 6.9155, label loss = 2.5727,\n",
      "Step 0 avg train total loss = 5.9018, avg train Mask loss = 4.0936, avg train label loss = 1.8083,\n",
      "Step 500 avg train total loss = 8.4489, avg train Mask loss = 6.1016, avg train label loss = 2.3473,\n",
      "At Epoch 3 avg validation total loss = 8.6174, Mask loss = 6.3392, label loss = 2.2782,\n",
      "model saved\n",
      "Step 0 avg train total loss = 7.5332, avg train Mask loss = 5.2522, avg train label loss = 2.2810,\n",
      "Step 500 avg train total loss = 8.0722, avg train Mask loss = 5.8688, avg train label loss = 2.2034,\n",
      "At Epoch 4 avg validation total loss = 8.1484, Mask loss = 5.9431, label loss = 2.2053,\n",
      "model saved\n",
      "Step 0 avg train total loss = 7.8464, avg train Mask loss = 5.5391, avg train label loss = 2.3073,\n",
      "Step 500 avg train total loss = 7.5170, avg train Mask loss = 5.4396, avg train label loss = 2.0774,\n",
      "At Epoch 5 avg validation total loss = 7.8717, Mask loss = 5.8066, label loss = 2.0651,\n",
      "model saved\n",
      "Step 0 avg train total loss = 11.5722, avg train Mask loss = 9.4799, avg train label loss = 2.0923,\n",
      "Step 500 avg train total loss = 7.2780, avg train Mask loss = 5.2678, avg train label loss = 2.0102,\n",
      "At Epoch 6 avg validation total loss = 7.6336, Mask loss = 5.6699, label loss = 1.9637,\n",
      "model saved\n",
      "Step 0 avg train total loss = 8.9156, avg train Mask loss = 6.4239, avg train label loss = 2.4917,\n",
      "Step 500 avg train total loss = 6.9702, avg train Mask loss = 5.0230, avg train label loss = 1.9472,\n",
      "At Epoch 7 avg validation total loss = 7.3558, Mask loss = 5.5137, label loss = 1.8420,\n",
      "model saved\n",
      "Step 0 avg train total loss = 5.0221, avg train Mask loss = 3.4648, avg train label loss = 1.5573,\n",
      "Step 500 avg train total loss = 6.5328, avg train Mask loss = 4.7240, avg train label loss = 1.8088,\n",
      "At Epoch 8 avg validation total loss = 7.8464, Mask loss = 5.8921, label loss = 1.9544,\n",
      "Step 0 avg train total loss = 9.2430, avg train Mask loss = 7.2340, avg train label loss = 2.0089,\n",
      "Step 500 avg train total loss = 6.0182, avg train Mask loss = 4.3485, avg train label loss = 1.6697,\n",
      "At Epoch 9 avg validation total loss = 7.2823, Mask loss = 5.4866, label loss = 1.7957,\n",
      "model saved\n",
      "Step 0 avg train total loss = 5.8891, avg train Mask loss = 4.1489, avg train label loss = 1.7402,\n",
      "Step 500 avg train total loss = 5.6380, avg train Mask loss = 4.1240, avg train label loss = 1.5140,\n",
      "At Epoch 10 avg validation total loss = 7.1296, Mask loss = 5.4014, label loss = 1.7281,\n",
      "model saved\n",
      "Step 0 avg train total loss = 3.9568, avg train Mask loss = 3.1259, avg train label loss = 0.8310,\n",
      "Step 500 avg train total loss = 5.2782, avg train Mask loss = 3.8984, avg train label loss = 1.3798,\n",
      "At Epoch 11 avg validation total loss = 7.4392, Mask loss = 5.8512, label loss = 1.5880,\n",
      "Step 0 avg train total loss = 8.1098, avg train Mask loss = 6.7276, avg train label loss = 1.3823,\n",
      "Step 500 avg train total loss = 4.9629, avg train Mask loss = 3.6765, avg train label loss = 1.2864,\n",
      "At Epoch 12 avg validation total loss = 7.4589, Mask loss = 5.8448, label loss = 1.6141,\n",
      "Step 0 avg train total loss = 3.9453, avg train Mask loss = 2.8990, avg train label loss = 1.0462,\n",
      "Step 500 avg train total loss = 4.6135, avg train Mask loss = 3.4606, avg train label loss = 1.1529,\n",
      "At Epoch 13 avg validation total loss = 7.6325, Mask loss = 5.9870, label loss = 1.6455,\n",
      "Step 0 avg train total loss = 3.5594, avg train Mask loss = 3.0177, avg train label loss = 0.5417,\n",
      "Step 500 avg train total loss = 4.2964, avg train Mask loss = 3.2227, avg train label loss = 1.0737,\n",
      "At Epoch 14 avg validation total loss = 7.4606, Mask loss = 5.9033, label loss = 1.5574,\n",
      "Step 0 avg train total loss = 4.6104, avg train Mask loss = 3.8410, avg train label loss = 0.7693,\n",
      "Step 500 avg train total loss = 3.9924, avg train Mask loss = 3.0347, avg train label loss = 0.9577,\n",
      "At Epoch 15 avg validation total loss = 7.9006, Mask loss = 6.1585, label loss = 1.7420,\n"
     ]
    }
   ],
   "source": [
    "device = torch.device(\"cuda:0\" if torch.cuda.is_available() else \"cpu\")\n",
    "lr=0.001 \n",
    "#num_class=45\n",
    "\n",
    "model = smp.DeepLabV3Plus(encoder_name='resnet101',aux_params={'classes':num_class})\n",
    "model = model.to(device)\n",
    "\n",
    "opt = Adam(model.parameters(),lr=lr)\n",
    "\n",
    "bce_loss = nn.BCEWithLogitsLoss()\n",
    "ce_loss = nn.CrossEntropyLoss()\n",
    "\n",
    "train(model,opt,bce_loss,ce_loss,device, a1_class_path, max_patient=5)"
   ]
  },
  {
   "cell_type": "markdown",
   "metadata": {},
   "source": [
    "## A1+class Evaluate"
   ]
  },
  {
   "cell_type": "code",
   "execution_count": 14,
   "metadata": {},
   "outputs": [],
   "source": [
    "def test(model,loader):\n",
    "    test_loss=[]\n",
    "    imgs = torch.tensor([])\n",
    "    mask,pred = [],[]\n",
    "    with torch.no_grad():\n",
    "        for batch_idx, sam in enumerate(loader):\n",
    "            data, target, label = sam[0].to(device=device,dtype=torch.float), sam[1].to(device=device,dtype=torch.float), sam[2].to(device=device,dtype=torch.long)\n",
    "            out, c = model(data)\n",
    "            loss = bce_loss(out,target) * 100.0\n",
    "            test_loss.append(loss.item())\n",
    "            \n",
    "            mask.append(target.cpu().detach().numpy())\n",
    "            pred.append(out.cpu().detach().numpy())\n",
    "        avg_test_loss = sum(test_loss) / len(test_loss)\n",
    "        print('Test loss = {:.{prec}f}'.format(avg_test_loss, prec=4))\n",
    "    return mask,pred"
   ]
  },
  {
   "cell_type": "code",
   "execution_count": 15,
   "metadata": {},
   "outputs": [
    {
     "name": "stdout",
     "output_type": "stream",
     "text": [
      "Test loss = 13.5269\n"
     ]
    }
   ],
   "source": [
    "device = torch.device(\"cuda:0\" if torch.cuda.is_available() else \"cpu\")\n",
    "optimal_model = smp.DeepLabV3Plus(encoder_name='resnet101',aux_params={'classes':num_class}).to(device)\n",
    "checkpoint = torch.load(a1_class_path)\n",
    "optimal_model.load_state_dict(checkpoint['model_dict'])\n",
    "optimal_model.eval()\n",
    "bce_loss = nn.BCEWithLogitsLoss()\n",
    "mask,pred = test(optimal_model,test_loader)\n",
    "gt_map = np.concatenate(mask, axis=0)\n",
    "pred_map = np.concatenate(pred, axis=0)"
   ]
  },
  {
   "cell_type": "code",
   "execution_count": 16,
   "metadata": {},
   "outputs": [
    {
     "name": "stdout",
     "output_type": "stream",
     "text": [
      "Best test IOU is 0.8387841875213979\n",
      "Best test DICE is 0.9084863046783714\n",
      "Test center error is 2.495279991214853\n",
      "Test circumstance error is 9.37624750499002\n",
      "Test AVD is  9.73292352546333\n",
      "Test VS is  0.9299433506190851\n"
     ]
    }
   ],
   "source": [
    "pred_map_sig = nn.Sigmoid()(torch.tensor(pred_map))\n",
    "threshold = 0.5\n",
    "predict = deepcopy(pred_map_sig)\n",
    "predict[pred_map_sig>=threshold]=1\n",
    "predict[pred_map_sig<threshold]=0\n",
    "\n",
    "cut_pred = []\n",
    "cut_gt = []\n",
    "for i in range(predict.shape[0]):\n",
    "    cut_pred.append(np.uint8(predict[i,0,132:252,180:300]))\n",
    "    cut_gt.append(np.uint8(gt_map[i,0,132:252,180:300]))\n",
    "    \n",
    "metrics(cut_gt,cut_pred)"
   ]
  },
  {
   "cell_type": "code",
   "execution_count": null,
   "metadata": {},
   "outputs": [],
   "source": []
  }
 ],
 "metadata": {
  "kernelspec": {
   "display_name": "Python 3",
   "language": "python",
   "name": "python3"
  },
  "language_info": {
   "codemirror_mode": {
    "name": "ipython",
    "version": 3
   },
   "file_extension": ".py",
   "mimetype": "text/x-python",
   "name": "python",
   "nbconvert_exporter": "python",
   "pygments_lexer": "ipython3",
   "version": "3.6.12"
  }
 },
 "nbformat": 4,
 "nbformat_minor": 4
}
